{
 "cells": [
  {
   "cell_type": "markdown",
   "metadata": {},
   "source": [
    "[34. Find First and Last Position of Element in Sorted Array](https://leetcode.com/problems/find-first-and-last-position-of-element-in-sorted-array/)"
   ]
  },
  {
   "cell_type": "code",
   "execution_count": 1,
   "metadata": {},
   "outputs": [],
   "source": [
    "from typing import List\n",
    "\n",
    "class Solution:\n",
    "    def searchRange(self, nums: List[int], target: int) -> List[int]:\n",
    "        answer = [-1, -1]\n",
    "\n",
    "        found = False\n",
    "        for i in range(0, len(nums)):\n",
    "            if nums[i] == target:\n",
    "                answer[0] = i\n",
    "                found = True\n",
    "                break\n",
    "        if found:\n",
    "            for j in range(i, len(nums)):\n",
    "                if nums[j] == target:\n",
    "                    answer[1] = j\n",
    "                elif nums[j] > target:\n",
    "                    break\n",
    "        return answer"
   ]
  },
  {
   "cell_type": "code",
   "execution_count": 2,
   "metadata": {},
   "outputs": [
    {
     "name": "stdout",
     "output_type": "stream",
     "text": [
      "args: {'nums': [5, 7, 7, 8, 8, 10, 11, 12], 'target': 8}    \n",
      "--> [3, 4]\n",
      "\n",
      "args: {'nums': [5, 7, 7, 8, 8, 10], 'target': 6}    \n",
      "--> [-1, -1]\n",
      "\n",
      "args: {'nums': [], 'target': 0}    \n",
      "--> [-1, -1]\n",
      "\n"
     ]
    }
   ],
   "source": [
    "method = Solution().searchRange\n",
    "args_list = [\n",
    "    {\"nums\": [5,7,7,8,8,10,11,12], \"target\": 8},\n",
    "    {\"nums\": [5,7,7,8,8,10], \"target\": 6},\n",
    "    {\"nums\": [], \"target\": 0},\n",
    "]\n",
    "\n",
    "for args in args_list:\n",
    "    print(f\"args: {args}    \\n--> {method(**args)}\\n\")\n"
   ]
  },
  {
   "cell_type": "code",
   "execution_count": null,
   "metadata": {},
   "outputs": [],
   "source": []
  }
 ],
 "metadata": {
  "kernelspec": {
   "display_name": "Python 3.8.10 64-bit",
   "language": "python",
   "name": "python3"
  },
  "language_info": {
   "codemirror_mode": {
    "name": "ipython",
    "version": 3
   },
   "file_extension": ".py",
   "mimetype": "text/x-python",
   "name": "python",
   "nbconvert_exporter": "python",
   "pygments_lexer": "ipython3",
   "version": "3.8.10"
  },
  "orig_nbformat": 4,
  "vscode": {
   "interpreter": {
    "hash": "916dbcbb3f70747c44a77c7bcd40155683ae19c65e1c03b4aa3499c5328201f1"
   }
  }
 },
 "nbformat": 4,
 "nbformat_minor": 2
}
