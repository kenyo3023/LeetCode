{
 "cells": [
  {
   "cell_type": "markdown",
   "metadata": {},
   "source": [
    "[42. Trapping Rain Water](https://leetcode.com/problems/trapping-rain-water/)"
   ]
  },
  {
   "cell_type": "code",
   "execution_count": 1,
   "metadata": {},
   "outputs": [],
   "source": [
    "from typing import List\n",
    "\n",
    "class Solution:\n",
    "    def trap(self, height: List[int]) -> int:\n",
    "        total_trapped = 0\n",
    "        left_highest_height = 0\n",
    "        left_highest_height_list = []\n",
    "        right_highest_height = 0\n",
    "\n",
    "        for i in range(0, len(height)):\n",
    "            left_highest_height = max(left_highest_height, height[i])\n",
    "            left_highest_height_list.append(left_highest_height)\n",
    "        \n",
    "        for i in range(len(height)-1, -1, -1):\n",
    "            right_highest_height = max(right_highest_height, height[i])\n",
    "\n",
    "            relatively_height = min(left_highest_height_list[i], right_highest_height)\n",
    "            total_trapped += (relatively_height - height[i])\n",
    "\n",
    "        return total_trapped\n"
   ]
  },
  {
   "cell_type": "code",
   "execution_count": 2,
   "metadata": {},
   "outputs": [
    {
     "name": "stdout",
     "output_type": "stream",
     "text": [
      "args: {'height': [0, 1, 0, 2, 1, 0, 1, 3, 2, 1, 2, 1]}   \n",
      "--> 6\n",
      "\n",
      "args: {'height': [4, 2, 0, 3, 2, 5]}   \n",
      "--> 9\n",
      "\n"
     ]
    }
   ],
   "source": [
    "method = Solution().trap\n",
    "args_list = [\n",
    "    {\"height\": [0,1,0,2,1,0,1,3,2,1,2,1]},\n",
    "    {\"height\": [4,2,0,3,2,5]},\n",
    "]\n",
    "\n",
    "for args in args_list:\n",
    "    print(f\"args: {args}   \\n--> {method(**args)}\\n\")"
   ]
  }
 ],
 "metadata": {
  "kernelspec": {
   "display_name": "Python 3.8.10 64-bit",
   "language": "python",
   "name": "python3"
  },
  "language_info": {
   "codemirror_mode": {
    "name": "ipython",
    "version": 3
   },
   "file_extension": ".py",
   "mimetype": "text/x-python",
   "name": "python",
   "nbconvert_exporter": "python",
   "pygments_lexer": "ipython3",
   "version": "3.8.10"
  },
  "orig_nbformat": 4,
  "vscode": {
   "interpreter": {
    "hash": "916dbcbb3f70747c44a77c7bcd40155683ae19c65e1c03b4aa3499c5328201f1"
   }
  }
 },
 "nbformat": 4,
 "nbformat_minor": 2
}
