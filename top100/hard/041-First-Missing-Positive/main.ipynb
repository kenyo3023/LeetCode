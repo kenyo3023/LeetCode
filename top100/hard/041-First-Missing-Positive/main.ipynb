{
 "cells": [
  {
   "cell_type": "markdown",
   "metadata": {},
   "source": [
    "[41. First Missing Positive](https://leetcode.com/problems/first-missing-positive/)"
   ]
  },
  {
   "cell_type": "code",
   "execution_count": 1,
   "metadata": {},
   "outputs": [],
   "source": [
    "from typing import List\n",
    "\n",
    "class Solution:\n",
    "    def firstMissingPositive(self, nums: List[int]) -> int:\n",
    "        nums = sorted(set(nums))\n",
    "\n",
    "        c = 0\n",
    "        found = False\n",
    "        for i in range(len(nums)):\n",
    "            if nums[i] > 0:\n",
    "                nums = nums[i:]\n",
    "                found = True\n",
    "                break\n",
    "        if not found:\n",
    "            return 1\n",
    "        \n",
    "        max_num = max(nums)\n",
    "        if len(nums) == max_num:\n",
    "            return max_num + 1\n",
    "\n",
    "        # for i in range(1, max_num):\n",
    "        #     if not i in nums:\n",
    "        #         return i\n",
    "\n",
    "        for i in range(len(nums)):\n",
    "            if nums[i] != i+1:\n",
    "                return i+1\n",
    "        \n",
    "        # return max_num + 1"
   ]
  },
  {
   "cell_type": "code",
   "execution_count": 2,
   "metadata": {},
   "outputs": [
    {
     "name": "stdout",
     "output_type": "stream",
     "text": [
      "args:    \n",
      "--> 3\n",
      "\n",
      "args:    \n",
      "--> 2\n",
      "\n",
      "args:    \n",
      "--> 1\n",
      "\n",
      "args:    \n",
      "--> 1\n",
      "\n",
      "args:    \n",
      "--> 1\n",
      "\n",
      "args:    \n",
      "--> 2\n",
      "\n",
      "args:    \n",
      "--> 99998\n",
      "\n"
     ]
    }
   ],
   "source": [
    "import json\n",
    "\n",
    "with open('./case2.json', 'r') as f:\n",
    "    case = json.load(f)\n",
    "\n",
    "method = Solution().firstMissingPositive\n",
    "args_list = [\n",
    "    {\"nums\": [1,2,0]},\n",
    "    {\"nums\": [3,4,-1,1]},\n",
    "    {\"nums\": [7,8,9,11,12]},\n",
    "    {\"nums\": [-5]},\n",
    "    {\"nums\": [0]},\n",
    "    {\"nums\": [1,1]},\n",
    "    case,\n",
    "]\n",
    "\n",
    "for args in args_list:\n",
    "    print(f\"args:    \\n--> {method(**args)}\\n\")\n"
   ]
  },
  {
   "cell_type": "code",
   "execution_count": null,
   "metadata": {},
   "outputs": [],
   "source": []
  }
 ],
 "metadata": {
  "kernelspec": {
   "display_name": "Python 3.8.10 64-bit",
   "language": "python",
   "name": "python3"
  },
  "language_info": {
   "codemirror_mode": {
    "name": "ipython",
    "version": 3
   },
   "file_extension": ".py",
   "mimetype": "text/x-python",
   "name": "python",
   "nbconvert_exporter": "python",
   "pygments_lexer": "ipython3",
   "version": "3.8.10"
  },
  "orig_nbformat": 4,
  "vscode": {
   "interpreter": {
    "hash": "916dbcbb3f70747c44a77c7bcd40155683ae19c65e1c03b4aa3499c5328201f1"
   }
  }
 },
 "nbformat": 4,
 "nbformat_minor": 2
}
