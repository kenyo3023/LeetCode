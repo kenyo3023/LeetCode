{
 "cells": [
  {
   "cell_type": "markdown",
   "metadata": {},
   "source": [
    "[32. Longest Valid Parentheses](https://leetcode.com/problems/longest-valid-parentheses/)"
   ]
  },
  {
   "cell_type": "code",
   "execution_count": 1,
   "metadata": {},
   "outputs": [],
   "source": [
    "class Solution:\n",
    "    def longestValidParentheses(self, s: str) -> int:\n",
    "        stack = []\n",
    "        start = 0\n",
    "        max_length = 0\n",
    "\n",
    "        for i in range(len(s)):\n",
    "            if s[i] == '(':\n",
    "                stack.append(i)\n",
    "            elif s[i] == ')':\n",
    "                if stack:\n",
    "                    stack.pop()\n",
    "                    if stack:\n",
    "                        max_length = max(max_length, i-stack[-1])\n",
    "                    else:\n",
    "                        max_length = max(max_length, i-start+1)\n",
    "                else:\n",
    "                    start = i + 1\n",
    "        return max_length"
   ]
  },
  {
   "cell_type": "code",
   "execution_count": 2,
   "metadata": {},
   "outputs": [
    {
     "name": "stdout",
     "output_type": "stream",
     "text": [
      "args: {'s': '(()'}    \n",
      "--> 2\n",
      "\n",
      "args: {'s': ')()())'}    \n",
      "--> 4\n",
      "\n",
      "args: {'s': ''}    \n",
      "--> 0\n",
      "\n"
     ]
    }
   ],
   "source": [
    "method = Solution().longestValidParentheses\n",
    "args_list = [\n",
    "    {\"s\": \"(()\"},\n",
    "    {\"s\": \")()())\"},\n",
    "    {\"s\": \"\"},\n",
    "]\n",
    "\n",
    "for args in args_list:\n",
    "    print(f\"args: {args}    \\n--> {method(**args)}\\n\")\n"
   ]
  },
  {
   "cell_type": "code",
   "execution_count": null,
   "metadata": {},
   "outputs": [],
   "source": []
  }
 ],
 "metadata": {
  "kernelspec": {
   "display_name": "Python 3.8.10 64-bit",
   "language": "python",
   "name": "python3"
  },
  "language_info": {
   "codemirror_mode": {
    "name": "ipython",
    "version": 3
   },
   "file_extension": ".py",
   "mimetype": "text/x-python",
   "name": "python",
   "nbconvert_exporter": "python",
   "pygments_lexer": "ipython3",
   "version": "3.8.10"
  },
  "orig_nbformat": 4,
  "vscode": {
   "interpreter": {
    "hash": "916dbcbb3f70747c44a77c7bcd40155683ae19c65e1c03b4aa3499c5328201f1"
   }
  }
 },
 "nbformat": 4,
 "nbformat_minor": 2
}
